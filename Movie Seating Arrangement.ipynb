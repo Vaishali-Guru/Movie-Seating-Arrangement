{
 "cells": [
  {
   "cell_type": "markdown",
   "metadata": {},
   "source": [
    "# Movie Seating Arrangement\n",
    "\n",
    ">Problem Statement: To place **X** people in a movie theatre of **N*N** seating while maintaining social distancing guidelines i.e., people are seated at an alternate seat from each other for example, if a person has occupied a seat, then no other person can be seated on the next seat in left, right, up and down direction."
   ]
  },
  {
   "cell_type": "code",
   "execution_count": 1,
   "metadata": {},
   "outputs": [],
   "source": [
    "import string\n",
    "import numpy as np\n",
    "import pandas as pd\n",
    "import collections"
   ]
  },
  {
   "cell_type": "code",
   "execution_count": 2,
   "metadata": {},
   "outputs": [],
   "source": [
    "#This function returns the seating arrangement for N*N seater movie theater for X people as output in form of a dataframe\n",
    "def seating_arrangement(n, x):\n",
    "    \n",
    "    '''This function returns the seating arrangement for N*N seater movie theater for X people as output\n",
    "    in form of a dataframe'''\n",
    "    \n",
    "    #Display error message if negative numbers are entered\n",
    "    if ((n <= 0) | (x <= 0)):\n",
    "        print('Invalid input entered! Please input valid non-negative numbers and try again!')\n",
    "    \n",
    "    #Display error message if invalid input is entered such as number of people are more than the number of seats\n",
    "    elif (((n % 2 == 0) & (x >= n**2//2)) | ((n % 2 != 0) & (x >= n**2//2+1))):\n",
    "        print('Number of people are more than the number of seats! Please enter valid inputs and try again!')\n",
    "    \n",
    "    else:\n",
    "        #Columns are defined by alphabets and rows are defined by numbers starting from 1 to n\n",
    "        col = list(string.ascii_uppercase)[:n]\n",
    "        row = list(range(n))\n",
    "        \n",
    "        #Total number of seats\n",
    "        total_seats = n*n\n",
    "        \n",
    "        #Creating an empty 1D array of n*n elements with all elements as 'O'(Open for allocation)\n",
    "        arr = np.array(['O']*(total_seats))\n",
    "        \n",
    "        #Getting alternate row numbers in case of odd number of rows as the seating arrangement is to be adjusted accordingly for odd and even rows\n",
    "        alt_rows = [num for num in range(0, n) if num%2 != 0]\n",
    "        \n",
    "        #List of element indexes present in the alternate rows in 1D array \n",
    "        ele_list = [list(range(n*e, n*e+n)) for e in alt_rows]\n",
    "        ele_list = [x for e in ele_list for x in e]\n",
    "        \n",
    "        #Setting a counter to 0 and marking the alternate seats(step size = 2) as 'X'(Reserved) till all the people are seated\n",
    "        counter = 0\n",
    "        for i in range(0, total_seats, 2):\n",
    "            if counter < x:\n",
    "                if (n%2 == 0) & (i in ele_list):\n",
    "                    arr[i+1] = 'X'\n",
    "                else:\n",
    "                    arr[i] = 'X'\n",
    "                counter += 1\n",
    "        \n",
    "        #Displaying the current occupancy of the theatre\n",
    "        flat_list = [x for e in arr for x in e]\n",
    "        c = collections.Counter(flat_list)\n",
    "        curr_occupancy = round((c['X']/total_seats) * 100, 2)\n",
    "        \n",
    "        #Creating a dataframe to display the seating arrangement plan in a tabular manner\n",
    "        arr1 = arr.reshape(n, n)\n",
    "        df = pd.DataFrame(arr1, index = range(1, n+1), columns = col)\n",
    "        \n",
    "        #Displaying the input and output data\n",
    "        print(f'''Number of seats in total: {total_seats}\\nNumber of people seated are: {c['X']}\\nOccupancy is: {curr_occupancy}%\\nSeated Arrangement is as follows: ''')\n",
    "        \n",
    "        #Returning the seating arrangement dataframe as output\n",
    "        return df"
   ]
  },
  {
   "cell_type": "code",
   "execution_count": 3,
   "metadata": {},
   "outputs": [
    {
     "name": "stdout",
     "output_type": "stream",
     "text": [
      "Enter the # of rows: 6\n",
      "Enter the # of people: 15\n"
     ]
    }
   ],
   "source": [
    "n = int(input('Enter the # of rows: '))\n",
    "x = int(input('Enter the # of people: '))"
   ]
  },
  {
   "cell_type": "code",
   "execution_count": 4,
   "metadata": {},
   "outputs": [
    {
     "name": "stdout",
     "output_type": "stream",
     "text": [
      "Number of seats in total: 36\n",
      "Number of people seated are: 15\n",
      "Occupancy is: 41.67%\n",
      "Seated Arrangement is as follows: \n"
     ]
    },
    {
     "data": {
      "text/html": [
       "<div>\n",
       "<style scoped>\n",
       "    .dataframe tbody tr th:only-of-type {\n",
       "        vertical-align: middle;\n",
       "    }\n",
       "\n",
       "    .dataframe tbody tr th {\n",
       "        vertical-align: top;\n",
       "    }\n",
       "\n",
       "    .dataframe thead th {\n",
       "        text-align: right;\n",
       "    }\n",
       "</style>\n",
       "<table border=\"1\" class=\"dataframe\">\n",
       "  <thead>\n",
       "    <tr style=\"text-align: right;\">\n",
       "      <th></th>\n",
       "      <th>A</th>\n",
       "      <th>B</th>\n",
       "      <th>C</th>\n",
       "      <th>D</th>\n",
       "      <th>E</th>\n",
       "      <th>F</th>\n",
       "    </tr>\n",
       "  </thead>\n",
       "  <tbody>\n",
       "    <tr>\n",
       "      <th>1</th>\n",
       "      <td>X</td>\n",
       "      <td>O</td>\n",
       "      <td>X</td>\n",
       "      <td>O</td>\n",
       "      <td>X</td>\n",
       "      <td>O</td>\n",
       "    </tr>\n",
       "    <tr>\n",
       "      <th>2</th>\n",
       "      <td>O</td>\n",
       "      <td>X</td>\n",
       "      <td>O</td>\n",
       "      <td>X</td>\n",
       "      <td>O</td>\n",
       "      <td>X</td>\n",
       "    </tr>\n",
       "    <tr>\n",
       "      <th>3</th>\n",
       "      <td>X</td>\n",
       "      <td>O</td>\n",
       "      <td>X</td>\n",
       "      <td>O</td>\n",
       "      <td>X</td>\n",
       "      <td>O</td>\n",
       "    </tr>\n",
       "    <tr>\n",
       "      <th>4</th>\n",
       "      <td>O</td>\n",
       "      <td>X</td>\n",
       "      <td>O</td>\n",
       "      <td>X</td>\n",
       "      <td>O</td>\n",
       "      <td>X</td>\n",
       "    </tr>\n",
       "    <tr>\n",
       "      <th>5</th>\n",
       "      <td>X</td>\n",
       "      <td>O</td>\n",
       "      <td>X</td>\n",
       "      <td>O</td>\n",
       "      <td>X</td>\n",
       "      <td>O</td>\n",
       "    </tr>\n",
       "    <tr>\n",
       "      <th>6</th>\n",
       "      <td>O</td>\n",
       "      <td>O</td>\n",
       "      <td>O</td>\n",
       "      <td>O</td>\n",
       "      <td>O</td>\n",
       "      <td>O</td>\n",
       "    </tr>\n",
       "  </tbody>\n",
       "</table>\n",
       "</div>"
      ],
      "text/plain": [
       "   A  B  C  D  E  F\n",
       "1  X  O  X  O  X  O\n",
       "2  O  X  O  X  O  X\n",
       "3  X  O  X  O  X  O\n",
       "4  O  X  O  X  O  X\n",
       "5  X  O  X  O  X  O\n",
       "6  O  O  O  O  O  O"
      ]
     },
     "execution_count": 4,
     "metadata": {},
     "output_type": "execute_result"
    }
   ],
   "source": [
    "df = seating_arrangement(n, x)\n",
    "df"
   ]
  }
 ],
 "metadata": {
  "kernelspec": {
   "display_name": "Python 3",
   "language": "python",
   "name": "python3"
  },
  "language_info": {
   "codemirror_mode": {
    "name": "ipython",
    "version": 3
   },
   "file_extension": ".py",
   "mimetype": "text/x-python",
   "name": "python",
   "nbconvert_exporter": "python",
   "pygments_lexer": "ipython3",
   "version": "3.9.0"
  }
 },
 "nbformat": 4,
 "nbformat_minor": 4
}
